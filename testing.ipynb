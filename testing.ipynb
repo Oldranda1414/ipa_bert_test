{
 "cells": [
  {
   "cell_type": "markdown",
   "metadata": {},
   "source": [
    "# Quick Experiment\n",
    "A short test to verify that `torch`, `transformers`, and `scikit-learn` are working."
   ]
  },
  {
   "cell_type": "code",
   "metadata": {},
   "execution_count": null,
   "outputs": [],
   "source": [
    "# Install dependencies (only needed once per environment)\n",
    "!uv add torch transformers scikit-learn pandas numpy"
   ]
  },
  {
   "cell_type": "code",
   "metadata": {},
   "execution_count": null,
   "outputs": [],
   "source": [
    "import torch\n",
    "from transformers import AutoTokenizer, AutoModel\n",
    "from sklearn.cluster import KMeans\n",
    "import numpy as np\n",
    "import pandas as pd\n",
    "\n",
    "print('Torch:', torch.__version__)\n",
    "print('Transformers:', __import__('transformers').__version__)\n",
    "print('scikit-learn:', __import__('sklearn').__version__)"
   ]
  },
  {
   "cell_type": "code",
   "metadata": {},
   "execution_count": null,
   "outputs": [],
   "source": [
    "# Quick embedding experiment\n",
    "model_name = 'distilbert-base-uncased'\n",
    "tokenizer = AutoTokenizer.from_pretrained(model_name)\n",
    "model = AutoModel.from_pretrained(model_name)\n",
    "\n",
    "sentences = [\n",
    "    'I love machine learning.',\n",
    "    'Deep learning is amazing.',\n",
    "    'Transformers are powerful.',\n",
    "    'I enjoy learning about AI.'\n",
    "]\n",
    "\n",
    "inputs = tokenizer(sentences, padding=True, truncation=True, return_tensors='pt')\n",
    "with torch.no_grad():\n",
    "    outputs = model(**inputs).last_hidden_state.mean(dim=1)\n",
    "\n",
    "embeddings = outputs.numpy()\n",
    "\n",
    "# Cluster embeddings to verify sklearn works\n",
    "km = KMeans(n_clusters=2, n_init='auto')\n",
    "labels = km.fit_predict(embeddings)\n",
    "\n",
    "pd.DataFrame({'sentence': sentences, 'cluster': labels})"
   ]
  }
 ],
 "metadata": {
  "kernelspec": {
   "display_name": "Python 3",
   "language": "python",
   "name": "python3"
  },
  "language_info": {
   "name": "python",
   "version": "3.11"
  }
 },
 "nbformat": 4,
 "nbformat_minor": 2
}
